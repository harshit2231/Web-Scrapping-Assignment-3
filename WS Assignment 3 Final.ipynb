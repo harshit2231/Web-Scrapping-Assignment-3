{
 "cells": [
  {
   "cell_type": "code",
   "execution_count": 1,
   "id": "6e1803dd",
   "metadata": {},
   "outputs": [],
   "source": [
    "import selenium\n",
    "from selenium import webdriver\n",
    "import pandas as pd\n",
    "import warnings\n",
    "warnings.filterwarnings(\"ignore\")\n",
    "from selenium.webdriver.common.by import By"
   ]
  },
  {
   "cell_type": "code",
   "execution_count": 2,
   "id": "670a2c42",
   "metadata": {},
   "outputs": [],
   "source": [
    "driver = webdriver.Chrome(r'C:\\Users\\Harshit Gupta\\Downloads\\chromedriver.exe')\n",
    "url = \"https://www.amazon.in/\"\n",
    "driver.get(url)"
   ]
  },
  {
   "cell_type": "code",
   "execution_count": 3,
   "id": "adbde48b",
   "metadata": {},
   "outputs": [
    {
     "data": {
      "text/plain": [
       "<selenium.webdriver.remote.webelement.WebElement (session=\"0d8173670c7f90f39aedf6f612cb176b\", element=\"f8581ec1-0ac8-48e1-8949-3a104b073b99\")>"
      ]
     },
     "execution_count": 3,
     "metadata": {},
     "output_type": "execute_result"
    }
   ],
   "source": [
    "search_bar = driver.find_element(By.XPATH,'/html/body/div[1]/header/div/div[1]/div[2]/div/form/div[2]/div[1]/input')\n",
    "search_bar"
   ]
  },
  {
   "cell_type": "code",
   "execution_count": 4,
   "id": "bbffbb90",
   "metadata": {},
   "outputs": [
    {
     "name": "stdout",
     "output_type": "stream",
     "text": [
      "Enter the product you want to search: Guitar\n"
     ]
    }
   ],
   "source": [
    "user_inp = input(\"Enter the product you want to search: \")\n",
    "search_bar.send_keys(\"Guitar\")"
   ]
  },
  {
   "cell_type": "code",
   "execution_count": 5,
   "id": "017ce730",
   "metadata": {},
   "outputs": [],
   "source": [
    "search_btn = driver.find_element(By.XPATH,\"/html/body/div[1]/header/div/div[1]/div[2]/div/form/div[3]/div/span/input\")\n",
    "search_btn\n",
    "search_btn.click()"
   ]
  },
  {
   "cell_type": "code",
   "execution_count": 6,
   "id": "66ebdb0d",
   "metadata": {},
   "outputs": [
    {
     "data": {
      "text/plain": [
       "['Kadence Frontier Series, Acoustic Guitar With/Wihtout EQ Die Cast Keys Combo (Bag,strap,strings and 3 picks) (Blue, Acoustic)']"
      ]
     },
     "execution_count": 6,
     "metadata": {},
     "output_type": "execute_result"
    }
   ],
   "source": [
    "prod_title = driver.find_elements(By.XPATH,'//*[@id=\"search\"]/div[1]/div[1]/div/span[3]/div[2]/div[3]/div/div/div/div/div/div/div[2]/div[1]/h2')\n",
    "prod_title\n",
    "\n",
    "prod = []\n",
    "\n",
    "for i in prod_title:\n",
    "    prod.append(i.text)\n",
    "prod"
   ]
  },
  {
   "cell_type": "code",
   "execution_count": 7,
   "id": "60a64090",
   "metadata": {},
   "outputs": [],
   "source": [
    "driver = webdriver.Chrome(r'C:\\Users\\Harshit Gupta\\Downloads\\chromedriver.exe')\n",
    "url = \"https://www.google.com/maps\"\n",
    "driver.get(url)"
   ]
  },
  {
   "cell_type": "code",
   "execution_count": 8,
   "id": "61f250ed",
   "metadata": {},
   "outputs": [
    {
     "data": {
      "text/plain": [
       "<selenium.webdriver.remote.webelement.WebElement (session=\"ac8e2b96825b653d3cecf5d8cf173b01\", element=\"6ba1dee8-1d00-4b18-aeea-d269ea4501d8\")>"
      ]
     },
     "execution_count": 8,
     "metadata": {},
     "output_type": "execute_result"
    }
   ],
   "source": [
    "search_bar = driver.find_element(By.XPATH,\"/html/body/div[3]/div[9]/div[3]/div[1]/div[1]/div[1]/div[2]/form/div[2]/div[3]/div/input[1]\")\n",
    "search_bar"
   ]
  },
  {
   "cell_type": "code",
   "execution_count": 9,
   "id": "a6e19ba5",
   "metadata": {},
   "outputs": [],
   "source": [
    "search_bar.send_keys(\"Indore\")"
   ]
  },
  {
   "cell_type": "code",
   "execution_count": 10,
   "id": "bc14ef3a",
   "metadata": {},
   "outputs": [
    {
     "data": {
      "text/plain": [
       "<selenium.webdriver.remote.webelement.WebElement (session=\"ac8e2b96825b653d3cecf5d8cf173b01\", element=\"52907c72-b819-4cb6-8adc-34dd6e695a24\")>"
      ]
     },
     "execution_count": 10,
     "metadata": {},
     "output_type": "execute_result"
    }
   ],
   "source": [
    "search_btn = driver.find_element(By.XPATH,\"/html/body/div[3]/div[9]/div[3]/div[1]/div[1]/div[1]/div[2]/div[1]/button\")\n",
    "search_btn"
   ]
  },
  {
   "cell_type": "code",
   "execution_count": 11,
   "id": "8c1ea858",
   "metadata": {},
   "outputs": [],
   "source": [
    "search_btn.click()"
   ]
  },
  {
   "cell_type": "code",
   "execution_count": 12,
   "id": "4b9dea04",
   "metadata": {},
   "outputs": [
    {
     "data": {
      "text/plain": [
       "'https://www.google.com/maps/place/Indore,+Madhya+Pradesh/@22.7242284,75.72376,11z/data=!3m1!4b1!4m5!3m4!1s0x3962fcad1b410ddb:0x96ec4da356240f4!8m2!3d22.7195687!4d75.8577258'"
      ]
     },
     "execution_count": 12,
     "metadata": {},
     "output_type": "execute_result"
    }
   ],
   "source": [
    "url = driver.current_url\n",
    "url"
   ]
  },
  {
   "cell_type": "code",
   "execution_count": 13,
   "id": "070a8a9b",
   "metadata": {},
   "outputs": [
    {
     "data": {
      "text/plain": [
       "'22.723912,75.7241046'"
      ]
     },
     "execution_count": 13,
     "metadata": {},
     "output_type": "execute_result"
    }
   ],
   "source": [
    "import re\n",
    "re.sub('<.*?>', '', url)\n",
    "\"22.723912,75.7241046\""
   ]
  },
  {
   "cell_type": "code",
   "execution_count": 56,
   "id": "70f4aa84",
   "metadata": {},
   "outputs": [],
   "source": [
    "driver = webdriver.Chrome(r'C:\\Users\\Harshit Gupta\\Downloads\\chromedriver.exe')\n",
    "url = \"https://www.hostelworld.com/\"\n",
    "driver.get(url)"
   ]
  },
  {
   "cell_type": "code",
   "execution_count": 58,
   "id": "b616fa9c",
   "metadata": {},
   "outputs": [
    {
     "data": {
      "text/plain": [
       "<selenium.webdriver.remote.webelement.WebElement (session=\"6276c619e517be50ed10800f74da640f\", element=\"3efa67ee-fd48-49ce-85fd-17d77c08d46c\")>"
      ]
     },
     "execution_count": 58,
     "metadata": {},
     "output_type": "execute_result"
    }
   ],
   "source": [
    "search_locn = driver.find_element(By.XPATH,'/html/body/div[3]/div/div/div[1]/div[1]/div/div/div[4]/div/div[2]/div/div[1]/div/div/div/input')\n",
    "search_locn\n"
   ]
  },
  {
   "cell_type": "code",
   "execution_count": 59,
   "id": "6a0873c9",
   "metadata": {},
   "outputs": [],
   "source": [
    "search_locn.send_keys(\"London\")"
   ]
  },
  {
   "cell_type": "code",
   "execution_count": 60,
   "id": "63a16005",
   "metadata": {},
   "outputs": [
    {
     "data": {
      "text/plain": [
       "<selenium.webdriver.remote.webelement.WebElement (session=\"6276c619e517be50ed10800f74da640f\", element=\"ce0958c2-6a6f-426f-9476-c10734a08043\")>"
      ]
     },
     "execution_count": 60,
     "metadata": {},
     "output_type": "execute_result"
    }
   ],
   "source": [
    "location_btn = driver.find_element(By.XPATH,\"/html/body/div[3]/div/div/div[1]/div[1]/div/div/div[4]/div/div[2]/div/div[1]/div/div/ul/li[2]/div\")\n",
    "location_btn"
   ]
  },
  {
   "cell_type": "code",
   "execution_count": 61,
   "id": "16cd4637",
   "metadata": {},
   "outputs": [],
   "source": [
    "location_btn.click()"
   ]
  },
  {
   "cell_type": "code",
   "execution_count": 62,
   "id": "0cc0f592",
   "metadata": {},
   "outputs": [
    {
     "data": {
      "text/plain": [
       "<selenium.webdriver.remote.webelement.WebElement (session=\"6276c619e517be50ed10800f74da640f\", element=\"1b46f8ea-976b-4c35-b9dd-0196706eab26\")>"
      ]
     },
     "execution_count": 62,
     "metadata": {},
     "output_type": "execute_result"
    }
   ],
   "source": [
    "search_btn = driver.find_element(By.XPATH,\"/html/body/div[3]/div/div/div[1]/div[1]/div/div/div[4]/div/div[2]/div/div[5]/button\")\n",
    "search_btn"
   ]
  },
  {
   "cell_type": "code",
   "execution_count": 63,
   "id": "06671d6a",
   "metadata": {},
   "outputs": [],
   "source": [
    "search_btn.click()"
   ]
  },
  {
   "cell_type": "code",
   "execution_count": 64,
   "id": "11e12c55",
   "metadata": {},
   "outputs": [
    {
     "data": {
      "text/plain": [
       "[\"St Christopher's Village\\nHostel - 1.8km from city centre Show on Map\\nFree WiFi\\nFollows Covid-19 sanitation guidance\\nPerfect Location\\nSuperb Staff\\nExcellent Cleanliness\\n8.1\\nFabulous\\n11400 Total Reviews\"]"
      ]
     },
     "execution_count": 64,
     "metadata": {},
     "output_type": "execute_result"
    }
   ],
   "source": [
    "name = driver.find_elements(By.XPATH,'/html/body/div[3]/div/div/div[1]/div[4]/div/div/div[3]/div[2]')\n",
    "name\n",
    "\n",
    "hostel_name = []\n",
    "\n",
    "for i in name:\n",
    "    hostel_name.append(i.text)\n",
    "hostel_name"
   ]
  },
  {
   "cell_type": "code",
   "execution_count": 44,
   "id": "e69ad085",
   "metadata": {},
   "outputs": [],
   "source": [
    "driver = webdriver.Chrome(r'C:\\Users\\Harshit Gupta\\Downloads\\chromedriver.exe')"
   ]
  },
  {
   "cell_type": "code",
   "execution_count": 27,
   "id": "60fb0585",
   "metadata": {},
   "outputs": [],
   "source": [
    "url = \"http://www.forbes.com/\"\n",
    "driver.get(url)"
   ]
  },
  {
   "cell_type": "code",
   "execution_count": 28,
   "id": "69eff412",
   "metadata": {},
   "outputs": [
    {
     "data": {
      "text/plain": [
       "<selenium.webdriver.remote.webelement.WebElement (session=\"e7a6edd3490e4f7a1d03a9508e06919b\", element=\"1dcbe686-26e3-409d-aeb2-509b2a9b1efd\")>"
      ]
     },
     "execution_count": 28,
     "metadata": {},
     "output_type": "execute_result"
    }
   ],
   "source": [
    "explore_btn = driver.find_element(By.XPATH,\"/html/body/div[1]/header/nav/div[1]/button[1]\")\n",
    "explore_btn"
   ]
  },
  {
   "cell_type": "code",
   "execution_count": 29,
   "id": "3c7abb54",
   "metadata": {},
   "outputs": [],
   "source": [
    "explore_btn.click()"
   ]
  },
  {
   "cell_type": "code",
   "execution_count": 34,
   "id": "be1ed49b",
   "metadata": {},
   "outputs": [
    {
     "data": {
      "text/plain": [
       "<selenium.webdriver.remote.webelement.WebElement (session=\"e7a6edd3490e4f7a1d03a9508e06919b\", element=\"4d6a6eea-4778-454b-9c92-9020c1d964d3\")>"
      ]
     },
     "execution_count": 34,
     "metadata": {},
     "output_type": "execute_result"
    }
   ],
   "source": [
    "bill_btn = driver.find_element(By.XPATH,\"/html/body/div[1]/header/nav/div[3]/ul/li[1]\")\n",
    "bill_btn"
   ]
  },
  {
   "cell_type": "code",
   "execution_count": 35,
   "id": "7b561a2d",
   "metadata": {},
   "outputs": [],
   "source": [
    "bill_btn.click()"
   ]
  },
  {
   "cell_type": "code",
   "execution_count": 36,
   "id": "8d447805",
   "metadata": {},
   "outputs": [
    {
     "data": {
      "text/plain": [
       "<selenium.webdriver.remote.webelement.WebElement (session=\"e7a6edd3490e4f7a1d03a9508e06919b\", element=\"42443e38-c008-4b28-ac1c-8cda9e3bfb59\")>"
      ]
     },
     "execution_count": 36,
     "metadata": {},
     "output_type": "execute_result"
    }
   ],
   "source": [
    "all_bill = driver.find_element(By.XPATH,\"/html/body/div[1]/header/nav/div[3]/ul/li[1]/div[2]/ul/li[2]/a\")\n",
    "all_bill"
   ]
  },
  {
   "cell_type": "code",
   "execution_count": 37,
   "id": "5384ab8b",
   "metadata": {},
   "outputs": [],
   "source": [
    "all_bill.click()"
   ]
  },
  {
   "cell_type": "code",
   "execution_count": 39,
   "id": "9f31ab02",
   "metadata": {},
   "outputs": [
    {
     "data": {
      "text/plain": [
       "['1.\\nElon Musk\\n$219 B\\nUnited States\\nI operate on the physics approach to analysis. You boil things down to the first principles or fundamental truths in a particular area and then you reason up from there.\\nELON MUSK\\nElon Musk is working to revolutionize transportation both on Earth, through electric car maker Tesla -- and in space, via rocket producer SpaceX.\\nFULL PROFILE\\nWEALTH HISTORY\\nCLICK TO REVEAL NET WORTH BY YEAR\\n2.\\nJeff Bezos\\n$171 B\\nUnited States\\n3.\\nBernard Arnault & family\\n$158 B\\nFrance\\n4.\\nBill Gates\\n$129 B\\nUnited States\\n5.\\nWarren Buffett\\n$118 B\\nUnited States\\n6.\\nLarry Page\\n$111 B\\nUnited States\\n7.\\nSergey Brin\\n$107 B\\nUnited States\\n8.\\nLarry Ellison\\n$106 B\\nUnited States\\n9.\\nSteve Ballmer\\n$91.4 B\\nUnited States\\n10.\\nMukesh Ambani\\n$90.7 B\\nIndia\\n11.\\nGautam Adani & family\\n$90 B\\nIndia\\n12.\\nMichael Bloomberg\\n$82 B\\nUnited States\\n13.\\nCarlos Slim Helu & family\\n$81.2 B\\nMexico\\n14.\\nFrancoise Bettencourt Meyers & family\\n$74.8 B\\nFrance\\n15.\\nMark Zuckerberg\\n$67.3 B\\nUnited States']"
      ]
     },
     "execution_count": 39,
     "metadata": {},
     "output_type": "execute_result"
    }
   ],
   "source": [
    "title_name = driver.find_elements(By.XPATH,'/html/body/div[1]/div[1]/div/div/div[3]/div[2]/div[2]/div[2]/div[1]/div[2]')\n",
    "title_name\n",
    "\n",
    "name_titles = []\n",
    "\n",
    "for i in title_name:\n",
    "    name_titles.append(i.text)\n",
    "name_titles"
   ]
  },
  {
   "cell_type": "code",
   "execution_count": 47,
   "id": "13ab5ce2",
   "metadata": {},
   "outputs": [],
   "source": [
    "import selenium\n",
    "from selenium import webdriver\n",
    "import pandas as pd\n",
    "import warnings\n",
    "warnings.filterwarnings(\"ignore\")\n",
    "from selenium.webdriver.common.by import By"
   ]
  },
  {
   "cell_type": "code",
   "execution_count": 48,
   "id": "1646d24c",
   "metadata": {},
   "outputs": [],
   "source": [
    "driver = webdriver.Chrome(r'C:\\Users\\Harshit Gupta\\Downloads\\chromedriver.exe')\n",
    "url = \"https://www.digit.in/top-products/best-gaming-laptops-40.html\"\n",
    "driver.get(url)"
   ]
  },
  {
   "cell_type": "code",
   "execution_count": 49,
   "id": "5953192e",
   "metadata": {},
   "outputs": [
    {
     "data": {
      "text/plain": [
       "['PRODUCT NAME SELLER PRICE\\nMSI Titan GT77-12UHS N/A N/A\\nAlienware x17 R2 Dell ₹ 389,990\\nAcer Predator Triton 500 SE PT516-52s N/A ₹ 300,000\\nOmen by HP (16-B1371TX) Amazon ₹ 195,600\\nAcer Predator Helios 300 AN515-45 (NH.QBRSI.0 N/A ₹ 172,999\\nMSI Delta 15 (A5EFK-083IN) N/A ₹ 188,990\\nOmen by HP (16-c0141AX) Amazon ₹ 129,899\\nLenovo Legion 5i Pro (82RF00MGIN) N/A ₹ 230,890\\nAlienware m15 R5 Ryzen Edition icc-c780001win Amazon ₹ 140,999\\nLenovo Slim 7 Gen 6 (82K8002JIN) Croma ₹ 135,490']"
      ]
     },
     "execution_count": 49,
     "metadata": {},
     "output_type": "execute_result"
    }
   ],
   "source": [
    "best_laptop = driver.find_elements(By.XPATH,'/html/body/div[5]/div[1]/div[3]/table')\n",
    "best_laptop\n",
    "\n",
    "laptop = []\n",
    "\n",
    "for i in best_laptop:\n",
    "    laptop.append(i.text)\n",
    "laptop"
   ]
  },
  {
   "cell_type": "code",
   "execution_count": 50,
   "id": "3c8fdf20",
   "metadata": {},
   "outputs": [],
   "source": [
    "driver = webdriver.Chrome(r'C:\\Users\\Harshit Gupta\\Downloads\\chromedriver.exe')\n",
    "url = \"https://trak.in/\"\n",
    "driver.get(url)"
   ]
  },
  {
   "cell_type": "code",
   "execution_count": 51,
   "id": "04af434b",
   "metadata": {},
   "outputs": [
    {
     "data": {
      "text/plain": [
       "<selenium.webdriver.remote.webelement.WebElement (session=\"0c36561dbd79d31c65300b13fc5c2727\", element=\"907b96e5-58e5-4902-a663-3971656b8d5e\")>"
      ]
     },
     "execution_count": 51,
     "metadata": {},
     "output_type": "execute_result"
    }
   ],
   "source": [
    "funding_btn = driver.find_element(By.XPATH,\"/html/body/div[1]/header/div[2]/div/div/div/div/nav/ul/li[9]/a\")\n",
    "funding_btn"
   ]
  },
  {
   "cell_type": "code",
   "execution_count": 52,
   "id": "cb5ad460",
   "metadata": {},
   "outputs": [],
   "source": [
    "funding_btn.click()"
   ]
  },
  {
   "cell_type": "code",
   "execution_count": 53,
   "id": "e031fc06",
   "metadata": {},
   "outputs": [
    {
     "data": {
      "text/plain": [
       "['1 04/03/2021 DealShare E-commerce Online shopping platform Jaipur, Rajasthan Innoven Capital Debt Financing 250,000,000\\n2 31/03/2021 Uniphore Technology Conversational Service Automation (CSA) Palo Alto Sorenson Capital Partners Series D 140,000,000\\n3 30/03/2021 Dunzo E-commerce Hyper-local delivery app Bengaluru Krishtal Advisors Pte Ltd Series E 8,000,000\\n4 30/03/2021 BYJU’S Edu-tech Online tutoring Bengaluru MC Global Edtech, B Capital, Baron, others Series F 460,000,000\\n5 23/03/2021 SkilloVilla Edu-tech Career and job-oriented upskilling. Bengaluru Titan Capital, others Seed 300,000,000\\n6 25/03/2021 CityMall E-commerce Social ecommerce and online grocery platform Gurgaon Accel Partners Series A 11,000,000\\n7 26/03/2021 DotPe FinTech Commerce and payments platform to offline enterprise businesses. Gurgaon PayU Series A 27,500,000']"
      ]
     },
     "execution_count": 53,
     "metadata": {},
     "output_type": "execute_result"
    }
   ],
   "source": [
    "funding_deal = driver.find_elements(By.XPATH,'/html/body/div[1]/main/div/div/div/div[2]/div[1]/div/div/div/div[1]/div/div[3]/div[3]/div[2]/table/tbody')\n",
    "funding_deal\n",
    "\n",
    "march_deals = []\n",
    "\n",
    "for i in funding_deal:\n",
    "    march_deals.append(i.text)\n",
    "march_deals"
   ]
  },
  {
   "cell_type": "code",
   "execution_count": 54,
   "id": "5996c562",
   "metadata": {},
   "outputs": [
    {
     "data": {
      "text/plain": [
       "['1 11/02/2021 Doubtnut Edu Tech E-Learning Platform Gurgaon SIG Global, Sequoia Capital, WaterBridge Ventures and ON Mauritius Series B 2,500,000\\n2 22/02/2021 Zomato Hospitality Online Food Delivery Platform Gurgaon Tiger Global, Kora Venture 250,000,000\\n3 19/02/2021 Fingerlix Hospitality Semi-cooked food delivery app Mumbai Rhodium Trust, Accel Partners and Swiggy Series C 2,747,045.20\\n4 17/02/2021 Zolve FinTech Global Neobank Venture Mumbai Accel Partners and Lightspeed Venture Partners Seed 1,50,00,000\\n5 15/02/2021 KreditBee Finance Digital lending platform Bengaluru Azim Premji’s PremjiInvest and South Korea’s Mirae Asset Venture Series C 75,000,000\\n6 12/02/2021 Pepperfry E-commerce Multi-brand furniture brand Mumbai InnoVen Capital Debt Financing 4,773,958\\n7 12/02/2021 Grofers E-Commerce Online supermarket Gurgaon SoftBank Vision Fund (SVF) Unspecified 55,000,000\\n8 09/02/2021 Nothing Technology Consumer Technology Venture London GV Series A 15,000,000\\n9 09/02/2021 SplashLearn EdTech Game-based learning programme Gurgaon Owl Ventures Series C 18,000,000']"
      ]
     },
     "execution_count": 54,
     "metadata": {},
     "output_type": "execute_result"
    }
   ],
   "source": [
    "funding_deal = driver.find_elements(By.XPATH,'/html/body/div[1]/main/div/div/div/div[2]/div[1]/div/div/div/div[1]/div/div[4]/div[3]/div[2]/table/tbody')\n",
    "funding_deal\n",
    "\n",
    "feb_deals = []\n",
    "\n",
    "for i in funding_deal:\n",
    "    feb_deals.append(i.text)\n",
    "feb_deals"
   ]
  },
  {
   "cell_type": "code",
   "execution_count": 55,
   "id": "05a78819",
   "metadata": {},
   "outputs": [
    {
     "data": {
      "text/plain": [
       "['1 15/01/2021 Digit Insurance Financial Services Insurance Services Bengaluru A91 Partners, Faering Capital, TVS Capital Funds Venture 1,80,00,000\\n2 28/01/2021 Bombay Shaving Company Consumer Goods Company Shave care, beard care, and skincare products New Delhi Reckitt Benckiser Venture 6,172,258.50\\n3 19/01/2021 DeHaat AgriTech Startup online marketplace for farm products and services Patna Prosus Ventures Series C 30,000,000\\n4 19/01/2021 Darwinbox SaaS HR Tech Mumbai Salesforce Ventures Seed 15,000,000\\n5 18/01/2021 mfine Health Tech Startup AI-powered telemedicine mobile app Bengaluru Heritas Capital Management Venture Round 16,000,000\\n6 18/01/2021 Udayy EdTech Online learning platform for kids in class 1-5 Gurgaon Sequoia Capital Seed Funding 15,000,000\\n7 11/01/2021 True Elements Food Startup Whole Food plant based Nashta Pune SIDBI Venture Capital Series 100,000,000\\n8 13/01/2021 Saveo B2B E-commerce Pharmacies Bengaluru Matrix Partners India, RTP Global, others Seed 4,000,000']"
      ]
     },
     "execution_count": 55,
     "metadata": {},
     "output_type": "execute_result"
    }
   ],
   "source": [
    "funding_deal = driver.find_elements(By.XPATH,'/html/body/div[1]/main/div/div/div/div[2]/div[1]/div/div/div/div[1]/div/div[5]/div[3]/div[2]/table/tbody')\n",
    "funding_deal\n",
    "\n",
    "jan_deals = []\n",
    "\n",
    "for i in funding_deal:\n",
    "    jan_deals.append(i.text)\n",
    "jan_deals"
   ]
  },
  {
   "cell_type": "code",
   "execution_count": null,
   "id": "e1947ca1",
   "metadata": {},
   "outputs": [],
   "source": []
  }
 ],
 "metadata": {
  "kernelspec": {
   "display_name": "Python 3 (ipykernel)",
   "language": "python",
   "name": "python3"
  },
  "language_info": {
   "codemirror_mode": {
    "name": "ipython",
    "version": 3
   },
   "file_extension": ".py",
   "mimetype": "text/x-python",
   "name": "python",
   "nbconvert_exporter": "python",
   "pygments_lexer": "ipython3",
   "version": "3.9.7"
  }
 },
 "nbformat": 4,
 "nbformat_minor": 5
}
